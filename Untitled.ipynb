{
 "cells": [
  {
   "cell_type": "code",
   "execution_count": 2,
   "metadata": {},
   "outputs": [],
   "source": [
    "import pickle\n",
    "import pandas as pd\n",
    "import streamlit as st\n",
    "import warnings; warnings.simplefilter('ignore')"
   ]
  },
  {
   "cell_type": "code",
   "execution_count": 3,
   "metadata": {},
   "outputs": [],
   "source": [
    "pickle_in_model = open(\"voting_clf.pkl\", \"rb\")\n",
    "classifier = pickle.load(pickle_in_model)\n",
    "\n",
    "pickle_in_pipeline = open(\"full_pipeline.pkl\", \"rb\")\n",
    "full_pipeline = pickle.load(pickle_in_pipeline)\n",
    "\n",
    "df = pd.read_excel(\"data_for_prediction.xlsx\")\n",
    "df[\"Pers No\"] = df[\"Pers No\"].astype(str)"
   ]
  },
  {
   "cell_type": "code",
   "execution_count": 4,
   "metadata": {},
   "outputs": [],
   "source": [
    "data_to_show = pd.DataFrame(data=None, columns=['Pers No', 'Employee Name', \n",
    "                                      'Position', 'Directorate', 'Department',\n",
    "                                      'Unit', 'Prediction'])"
   ]
  },
  {
   "cell_type": "code",
   "execution_count": 5,
   "metadata": {},
   "outputs": [
    {
     "data": {
      "text/html": [
       "<div>\n",
       "<style scoped>\n",
       "    .dataframe tbody tr th:only-of-type {\n",
       "        vertical-align: middle;\n",
       "    }\n",
       "\n",
       "    .dataframe tbody tr th {\n",
       "        vertical-align: top;\n",
       "    }\n",
       "\n",
       "    .dataframe thead th {\n",
       "        text-align: right;\n",
       "    }\n",
       "</style>\n",
       "<table border=\"1\" class=\"dataframe\">\n",
       "  <thead>\n",
       "    <tr style=\"text-align: right;\">\n",
       "      <th></th>\n",
       "      <th>Pers No</th>\n",
       "      <th>Employee Name</th>\n",
       "      <th>Position</th>\n",
       "      <th>Directorate</th>\n",
       "      <th>Department</th>\n",
       "      <th>Unit</th>\n",
       "      <th>Prediction</th>\n",
       "    </tr>\n",
       "  </thead>\n",
       "  <tbody>\n",
       "  </tbody>\n",
       "</table>\n",
       "</div>"
      ],
      "text/plain": [
       "Empty DataFrame\n",
       "Columns: [Pers No, Employee Name, Position, Directorate, Department, Unit, Prediction]\n",
       "Index: []"
      ]
     },
     "execution_count": 5,
     "metadata": {},
     "output_type": "execute_result"
    }
   ],
   "source": [
    "data_to_show"
   ]
  },
  {
   "cell_type": "code",
   "execution_count": 18,
   "metadata": {},
   "outputs": [],
   "source": [
    "emp_id = \"90005956\"\n",
    "to_predict = df[df[\"Pers No\"]==emp_id].iloc[:,6:]"
   ]
  },
  {
   "cell_type": "code",
   "execution_count": 19,
   "metadata": {},
   "outputs": [],
   "source": [
    "to_predict_prep = full_pipeline.transform(to_predict)\n",
    "pred = classifier.predict(to_predict_prep)"
   ]
  },
  {
   "cell_type": "code",
   "execution_count": 20,
   "metadata": {},
   "outputs": [
    {
     "data": {
      "text/plain": [
       "'Welldone'"
      ]
     },
     "execution_count": 20,
     "metadata": {},
     "output_type": "execute_result"
    }
   ],
   "source": [
    "pred[0]"
   ]
  },
  {
   "cell_type": "code",
   "execution_count": 21,
   "metadata": {},
   "outputs": [],
   "source": [
    "emp_info_results = df[df[\"Pers No\"]==emp_id].iloc[:,:5]\n",
    "emp_info_results[\"Previous PA\"] = df[df[\"Pers No\"]==emp_id].iloc[:,11]\n",
    "emp_info_results[\"Prediction\"] = pred[0]\n",
    "tr = emp_info_results.T.reset_index()\n",
    "tr.columns = [\"Info\", \"Details\"]\n",
    "# tr = tr.style.hide_index()"
   ]
  },
  {
   "cell_type": "code",
   "execution_count": 22,
   "metadata": {},
   "outputs": [
    {
     "data": {
      "text/html": [
       "<div>\n",
       "<style scoped>\n",
       "    .dataframe tbody tr th:only-of-type {\n",
       "        vertical-align: middle;\n",
       "    }\n",
       "\n",
       "    .dataframe tbody tr th {\n",
       "        vertical-align: top;\n",
       "    }\n",
       "\n",
       "    .dataframe thead th {\n",
       "        text-align: right;\n",
       "    }\n",
       "</style>\n",
       "<table border=\"1\" class=\"dataframe\">\n",
       "  <thead>\n",
       "    <tr style=\"text-align: right;\">\n",
       "      <th></th>\n",
       "      <th>Pers No</th>\n",
       "      <th>Employee Name</th>\n",
       "      <th>Position</th>\n",
       "      <th>Directorate</th>\n",
       "      <th>Department</th>\n",
       "      <th>Previous PA</th>\n",
       "      <th>Prediction</th>\n",
       "    </tr>\n",
       "  </thead>\n",
       "  <tbody>\n",
       "    <tr>\n",
       "      <th>2</th>\n",
       "      <td>90005956</td>\n",
       "      <td>Jhon Hendri</td>\n",
       "      <td>Specialist - EMC CLM Planning</td>\n",
       "      <td>Consumer Marketing</td>\n",
       "      <td>NaN</td>\n",
       "      <td>Welldone</td>\n",
       "      <td>Welldone</td>\n",
       "    </tr>\n",
       "  </tbody>\n",
       "</table>\n",
       "</div>"
      ],
      "text/plain": [
       "    Pers No Employee Name                       Position         Directorate  \\\n",
       "2  90005956   Jhon Hendri  Specialist - EMC CLM Planning  Consumer Marketing   \n",
       "\n",
       "  Department Previous PA Prediction  \n",
       "2        NaN    Welldone   Welldone  "
      ]
     },
     "execution_count": 22,
     "metadata": {},
     "output_type": "execute_result"
    }
   ],
   "source": [
    "emp_info_results"
   ]
  },
  {
   "cell_type": "code",
   "execution_count": 23,
   "metadata": {},
   "outputs": [
    {
     "data": {
      "text/plain": [
       "2    Welldone\n",
       "Name: Prev_PA, dtype: object"
      ]
     },
     "execution_count": 23,
     "metadata": {},
     "output_type": "execute_result"
    }
   ],
   "source": [
    "df[df[\"Pers No\"]==emp_id].iloc[:,11]"
   ]
  },
  {
   "cell_type": "code",
   "execution_count": 24,
   "metadata": {},
   "outputs": [
    {
     "data": {
      "text/plain": [
       "Index(['Pers No', 'Employee Name', 'Position', 'Directorate', 'Department',\n",
       "       'Unit', 'Service_Year', 'Age', 'N_Training', 'H_Training',\n",
       "       'Training/Hour', 'Prev_PA', 'HRL_Times_Promoted', 'Rotation/Tenure',\n",
       "       'Is_Talent', 'E-CDT', 'E-Coll', 'E-Empower', 'E-PManagement',\n",
       "       'E-SLeadership', 'E-MAD', 'Salary_Increase', 'Compa_Ratio'],\n",
       "      dtype='object')"
      ]
     },
     "execution_count": 24,
     "metadata": {},
     "output_type": "execute_result"
    }
   ],
   "source": [
    "df.columns"
   ]
  },
  {
   "cell_type": "code",
   "execution_count": 25,
   "metadata": {},
   "outputs": [
    {
     "data": {
      "text/html": [
       "<div>\n",
       "<style scoped>\n",
       "    .dataframe tbody tr th:only-of-type {\n",
       "        vertical-align: middle;\n",
       "    }\n",
       "\n",
       "    .dataframe tbody tr th {\n",
       "        vertical-align: top;\n",
       "    }\n",
       "\n",
       "    .dataframe thead th {\n",
       "        text-align: right;\n",
       "    }\n",
       "</style>\n",
       "<table border=\"1\" class=\"dataframe\">\n",
       "  <thead>\n",
       "    <tr style=\"text-align: right;\">\n",
       "      <th></th>\n",
       "      <th>Info</th>\n",
       "      <th>Details</th>\n",
       "    </tr>\n",
       "  </thead>\n",
       "  <tbody>\n",
       "    <tr>\n",
       "      <th>0</th>\n",
       "      <td>Pers No</td>\n",
       "      <td>90005956</td>\n",
       "    </tr>\n",
       "    <tr>\n",
       "      <th>1</th>\n",
       "      <td>Employee Name</td>\n",
       "      <td>Jhon Hendri</td>\n",
       "    </tr>\n",
       "    <tr>\n",
       "      <th>2</th>\n",
       "      <td>Position</td>\n",
       "      <td>Specialist - EMC CLM Planning</td>\n",
       "    </tr>\n",
       "    <tr>\n",
       "      <th>3</th>\n",
       "      <td>Directorate</td>\n",
       "      <td>Consumer Marketing</td>\n",
       "    </tr>\n",
       "    <tr>\n",
       "      <th>4</th>\n",
       "      <td>Department</td>\n",
       "      <td>NaN</td>\n",
       "    </tr>\n",
       "    <tr>\n",
       "      <th>5</th>\n",
       "      <td>Previous PA</td>\n",
       "      <td>Welldone</td>\n",
       "    </tr>\n",
       "    <tr>\n",
       "      <th>6</th>\n",
       "      <td>Prediction</td>\n",
       "      <td>Welldone</td>\n",
       "    </tr>\n",
       "  </tbody>\n",
       "</table>\n",
       "</div>"
      ],
      "text/plain": [
       "            Info                        Details\n",
       "0        Pers No                       90005956\n",
       "1  Employee Name                    Jhon Hendri\n",
       "2       Position  Specialist - EMC CLM Planning\n",
       "3    Directorate             Consumer Marketing\n",
       "4     Department                            NaN\n",
       "5    Previous PA                       Welldone\n",
       "6     Prediction                       Welldone"
      ]
     },
     "execution_count": 25,
     "metadata": {},
     "output_type": "execute_result"
    }
   ],
   "source": [
    "tr"
   ]
  },
  {
   "cell_type": "code",
   "execution_count": 10,
   "metadata": {},
   "outputs": [
    {
     "name": "stdout",
     "output_type": "stream",
     "text": [
      "       Pers No                       90005956\n",
      " Employee Name                    Jhon Hendri\n",
      "      Position  Specialist - EMC CLM Planning\n",
      "   Directorate             Consumer Marketing\n",
      "    Department                            NaN\n",
      "    Prediction                       Welldone\n"
     ]
    }
   ],
   "source": [
    "print(tr.to_string(index=False, header=False))"
   ]
  },
  {
   "cell_type": "code",
   "execution_count": 205,
   "metadata": {},
   "outputs": [],
   "source": [
    "# emp_info_results.to_dict(orient='records')[0]"
   ]
  },
  {
   "cell_type": "code",
   "execution_count": 206,
   "metadata": {},
   "outputs": [
    {
     "data": {
      "text/html": [
       "<div>\n",
       "<style scoped>\n",
       "    .dataframe tbody tr th:only-of-type {\n",
       "        vertical-align: middle;\n",
       "    }\n",
       "\n",
       "    .dataframe tbody tr th {\n",
       "        vertical-align: top;\n",
       "    }\n",
       "\n",
       "    .dataframe thead th {\n",
       "        text-align: right;\n",
       "    }\n",
       "</style>\n",
       "<table border=\"1\" class=\"dataframe\">\n",
       "  <thead>\n",
       "    <tr style=\"text-align: right;\">\n",
       "      <th></th>\n",
       "      <th>Info</th>\n",
       "      <th>Details</th>\n",
       "    </tr>\n",
       "  </thead>\n",
       "  <tbody>\n",
       "    <tr>\n",
       "      <th>0</th>\n",
       "      <td>Pers No</td>\n",
       "      <td>90005956</td>\n",
       "    </tr>\n",
       "    <tr>\n",
       "      <th>1</th>\n",
       "      <td>Employee Name</td>\n",
       "      <td>Jhon Hendri</td>\n",
       "    </tr>\n",
       "    <tr>\n",
       "      <th>2</th>\n",
       "      <td>Position</td>\n",
       "      <td>Specialist - EMC CLM Planning</td>\n",
       "    </tr>\n",
       "    <tr>\n",
       "      <th>3</th>\n",
       "      <td>Directorate</td>\n",
       "      <td>Consumer Marketing</td>\n",
       "    </tr>\n",
       "    <tr>\n",
       "      <th>4</th>\n",
       "      <td>Department</td>\n",
       "      <td>NaN</td>\n",
       "    </tr>\n",
       "    <tr>\n",
       "      <th>5</th>\n",
       "      <td>Unit</td>\n",
       "      <td>NaN</td>\n",
       "    </tr>\n",
       "    <tr>\n",
       "      <th>6</th>\n",
       "      <td>Prediction</td>\n",
       "      <td>Welldone</td>\n",
       "    </tr>\n",
       "  </tbody>\n",
       "</table>\n",
       "</div>"
      ],
      "text/plain": [
       "            Info                        Details\n",
       "0        Pers No                       90005956\n",
       "1  Employee Name                    Jhon Hendri\n",
       "2       Position  Specialist - EMC CLM Planning\n",
       "3    Directorate             Consumer Marketing\n",
       "4     Department                            NaN\n",
       "5           Unit                            NaN\n",
       "6     Prediction                       Welldone"
      ]
     },
     "execution_count": 206,
     "metadata": {},
     "output_type": "execute_result"
    }
   ],
   "source": [
    "tr"
   ]
  },
  {
   "cell_type": "code",
   "execution_count": 194,
   "metadata": {},
   "outputs": [
    {
     "data": {
      "text/html": [
       "<div>\n",
       "<style scoped>\n",
       "    .dataframe tbody tr th:only-of-type {\n",
       "        vertical-align: middle;\n",
       "    }\n",
       "\n",
       "    .dataframe tbody tr th {\n",
       "        vertical-align: top;\n",
       "    }\n",
       "\n",
       "    .dataframe thead th {\n",
       "        text-align: right;\n",
       "    }\n",
       "</style>\n",
       "<table border=\"1\" class=\"dataframe\">\n",
       "  <thead>\n",
       "    <tr style=\"text-align: right;\">\n",
       "      <th></th>\n",
       "      <th>index</th>\n",
       "      <th>2</th>\n",
       "    </tr>\n",
       "  </thead>\n",
       "  <tbody>\n",
       "    <tr>\n",
       "      <th>0</th>\n",
       "      <td>Pers No</td>\n",
       "      <td>90005956</td>\n",
       "    </tr>\n",
       "    <tr>\n",
       "      <th>1</th>\n",
       "      <td>Employee Name</td>\n",
       "      <td>Jhon Hendri</td>\n",
       "    </tr>\n",
       "    <tr>\n",
       "      <th>2</th>\n",
       "      <td>Position</td>\n",
       "      <td>Specialist - EMC CLM Planning</td>\n",
       "    </tr>\n",
       "    <tr>\n",
       "      <th>3</th>\n",
       "      <td>Directorate</td>\n",
       "      <td>Consumer Marketing</td>\n",
       "    </tr>\n",
       "    <tr>\n",
       "      <th>4</th>\n",
       "      <td>Department</td>\n",
       "      <td>NaN</td>\n",
       "    </tr>\n",
       "    <tr>\n",
       "      <th>5</th>\n",
       "      <td>Unit</td>\n",
       "      <td>NaN</td>\n",
       "    </tr>\n",
       "    <tr>\n",
       "      <th>6</th>\n",
       "      <td>Prediction</td>\n",
       "      <td>Welldone</td>\n",
       "    </tr>\n",
       "  </tbody>\n",
       "</table>\n",
       "</div>"
      ],
      "text/plain": [
       "           index                              2\n",
       "0        Pers No                       90005956\n",
       "1  Employee Name                    Jhon Hendri\n",
       "2       Position  Specialist - EMC CLM Planning\n",
       "3    Directorate             Consumer Marketing\n",
       "4     Department                            NaN\n",
       "5           Unit                            NaN\n",
       "6     Prediction                       Welldone"
      ]
     },
     "execution_count": 194,
     "metadata": {},
     "output_type": "execute_result"
    }
   ],
   "source": [
    "tr"
   ]
  },
  {
   "cell_type": "code",
   "execution_count": 181,
   "metadata": {},
   "outputs": [
    {
     "data": {
      "text/html": [
       "<div>\n",
       "<style scoped>\n",
       "    .dataframe tbody tr th:only-of-type {\n",
       "        vertical-align: middle;\n",
       "    }\n",
       "\n",
       "    .dataframe tbody tr th {\n",
       "        vertical-align: top;\n",
       "    }\n",
       "\n",
       "    .dataframe thead th {\n",
       "        text-align: right;\n",
       "    }\n",
       "</style>\n",
       "<table border=\"1\" class=\"dataframe\">\n",
       "  <thead>\n",
       "    <tr style=\"text-align: right;\">\n",
       "      <th></th>\n",
       "      <th>Pers No</th>\n",
       "      <th>Employee Name</th>\n",
       "      <th>Position</th>\n",
       "      <th>Directorate</th>\n",
       "      <th>Department</th>\n",
       "      <th>Unit</th>\n",
       "      <th>Prediction</th>\n",
       "    </tr>\n",
       "  </thead>\n",
       "  <tbody>\n",
       "    <tr>\n",
       "      <th>2</th>\n",
       "      <td>90005956</td>\n",
       "      <td>Jhon Hendri</td>\n",
       "      <td>Specialist - EMC CLM Planning</td>\n",
       "      <td>Consumer Marketing</td>\n",
       "      <td>NaN</td>\n",
       "      <td>NaN</td>\n",
       "      <td>Welldone</td>\n",
       "    </tr>\n",
       "  </tbody>\n",
       "</table>\n",
       "</div>"
      ],
      "text/plain": [
       "    Pers No Employee Name                       Position         Directorate  \\\n",
       "2  90005956   Jhon Hendri  Specialist - EMC CLM Planning  Consumer Marketing   \n",
       "\n",
       "  Department Unit Prediction  \n",
       "2        NaN  NaN   Welldone  "
      ]
     },
     "execution_count": 181,
     "metadata": {},
     "output_type": "execute_result"
    }
   ],
   "source": [
    "emp_info_results"
   ]
  },
  {
   "cell_type": "code",
   "execution_count": 182,
   "metadata": {},
   "outputs": [
    {
     "data": {
      "text/plain": [
       "Index(['Pers No', 'Employee Name', 'Position', 'Directorate', 'Department',\n",
       "       'Unit', 'Prediction'],\n",
       "      dtype='object')"
      ]
     },
     "execution_count": 182,
     "metadata": {},
     "output_type": "execute_result"
    }
   ],
   "source": [
    "emp_info_results.columns"
   ]
  },
  {
   "cell_type": "code",
   "execution_count": 183,
   "metadata": {},
   "outputs": [
    {
     "data": {
      "text/html": [
       "<div>\n",
       "<style scoped>\n",
       "    .dataframe tbody tr th:only-of-type {\n",
       "        vertical-align: middle;\n",
       "    }\n",
       "\n",
       "    .dataframe tbody tr th {\n",
       "        vertical-align: top;\n",
       "    }\n",
       "\n",
       "    .dataframe thead th {\n",
       "        text-align: right;\n",
       "    }\n",
       "</style>\n",
       "<table border=\"1\" class=\"dataframe\">\n",
       "  <thead>\n",
       "    <tr style=\"text-align: right;\">\n",
       "      <th></th>\n",
       "      <th>Pers No</th>\n",
       "      <th>Employee Name</th>\n",
       "      <th>Position</th>\n",
       "      <th>Directorate</th>\n",
       "      <th>Department</th>\n",
       "      <th>Unit</th>\n",
       "      <th>Prediction</th>\n",
       "    </tr>\n",
       "  </thead>\n",
       "  <tbody>\n",
       "    <tr>\n",
       "      <th>0</th>\n",
       "      <td>90004081</td>\n",
       "      <td>Hasanudin Farid</td>\n",
       "      <td>Specialist - Technology Planning</td>\n",
       "      <td>Technology, Content and New Business</td>\n",
       "      <td>NaN</td>\n",
       "      <td>NaN</td>\n",
       "      <td>Outstanding</td>\n",
       "    </tr>\n",
       "    <tr>\n",
       "      <th>1</th>\n",
       "      <td>90004081</td>\n",
       "      <td>Hasanudin Farid</td>\n",
       "      <td>Specialist - Technology Planning</td>\n",
       "      <td>Technology, Content and New Business</td>\n",
       "      <td>NaN</td>\n",
       "      <td>NaN</td>\n",
       "      <td>Outstanding</td>\n",
       "    </tr>\n",
       "    <tr>\n",
       "      <th>2</th>\n",
       "      <td>90005956</td>\n",
       "      <td>Jhon Hendri</td>\n",
       "      <td>Specialist - EMC CLM Planning</td>\n",
       "      <td>Consumer Marketing</td>\n",
       "      <td>NaN</td>\n",
       "      <td>NaN</td>\n",
       "      <td>Welldone</td>\n",
       "    </tr>\n",
       "  </tbody>\n",
       "</table>\n",
       "</div>"
      ],
      "text/plain": [
       "    Pers No    Employee Name                          Position  \\\n",
       "0  90004081  Hasanudin Farid  Specialist - Technology Planning   \n",
       "1  90004081  Hasanudin Farid  Specialist - Technology Planning   \n",
       "2  90005956      Jhon Hendri     Specialist - EMC CLM Planning   \n",
       "\n",
       "                            Directorate Department Unit   Prediction  \n",
       "0  Technology, Content and New Business        NaN  NaN  Outstanding  \n",
       "1  Technology, Content and New Business        NaN  NaN  Outstanding  \n",
       "2                    Consumer Marketing        NaN  NaN     Welldone  "
      ]
     },
     "execution_count": 183,
     "metadata": {},
     "output_type": "execute_result"
    }
   ],
   "source": [
    "data_to_show = pd.concat([data_to_show, emp_info_results], ignore_index=True)\n",
    "data_to_show"
   ]
  },
  {
   "cell_type": "code",
   "execution_count": 105,
   "metadata": {},
   "outputs": [
    {
     "data": {
      "text/plain": [
       "0     90007035\n",
       "1     90004081\n",
       "2     90005956\n",
       "3     90006893\n",
       "4     90007026\n",
       "5     90004875\n",
       "6     90005378\n",
       "7     90006877\n",
       "8     90007252\n",
       "9     90006561\n",
       "10    90006169\n",
       "11    90006391\n",
       "12    90007532\n",
       "13    90007174\n",
       "14    90006720\n",
       "15    90000523\n",
       "16    90004856\n",
       "17    90005778\n",
       "18    90004986\n",
       "19    90005552\n",
       "20    90005688\n",
       "21    90006578\n",
       "22    90003796\n",
       "23    90005549\n",
       "24    90007537\n",
       "25    90003366\n",
       "Name: Pers No, dtype: object"
      ]
     },
     "execution_count": 105,
     "metadata": {},
     "output_type": "execute_result"
    }
   ],
   "source": [
    "df[\"Pers No\"]"
   ]
  },
  {
   "cell_type": "code",
   "execution_count": null,
   "metadata": {},
   "outputs": [],
   "source": []
  }
 ],
 "metadata": {
  "kernelspec": {
   "display_name": "Python 3",
   "language": "python",
   "name": "python3"
  },
  "language_info": {
   "codemirror_mode": {
    "name": "ipython",
    "version": 3
   },
   "file_extension": ".py",
   "mimetype": "text/x-python",
   "name": "python",
   "nbconvert_exporter": "python",
   "pygments_lexer": "ipython3",
   "version": "3.7.6"
  }
 },
 "nbformat": 4,
 "nbformat_minor": 4
}
